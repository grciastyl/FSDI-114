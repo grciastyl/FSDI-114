{
 "cells": [
  {
   "cell_type": "markdown",
   "id": "7b83e681",
   "metadata": {},
   "source": [
    "# FSDI 114 - Class 1: Jupyter Introduction and Problem Solving"
   ]
  },
  {
   "cell_type": "code",
   "execution_count": 1,
   "id": "b357d35b",
   "metadata": {},
   "outputs": [
    {
     "name": "stdout",
     "output_type": "stream",
     "text": [
      "H\n",
      "e\n",
      "l\n",
      "l\n",
      "o\n",
      ",\n",
      " \n",
      "W\n",
      "o\n",
      "r\n",
      "l\n",
      "d\n"
     ]
    }
   ],
   "source": [
    "for letter in \"Hello, World\":\n",
    "    print(letter)"
   ]
  },
  {
   "cell_type": "markdown",
   "id": "4eff7fbe",
   "metadata": {},
   "source": [
    "# Problem 1\n",
    "\n",
    "### Find the total of numbers from a collection that divided by 2 has a remainder of zero (no decimals)\n",
    "\n",
    "```\n",
    "Examples:\n",
    "1. Given [3,4,10,15,999,2] (Then there should be 3 numbers)\n",
    "2. Given [2,4,6,10,3.7] (There should be 4 numbers)\n",
    "```\n",
    "\n",
    "### Criteria\n",
    "1. Create a function that receives a collection and returns an integer with the total\n",
    "the collection is [3,5,27,20,6,3.5,60]\n",
    "\n",
    "### Hint\n",
    "-     % is the mathematic operand to get the module from division\n",
    "-     2 % 2 = 0\n",
    "The collection of numbers is :[3,5,27,20,6,3.5,60]"
   ]
  },
  {
   "cell_type": "code",
   "execution_count": null,
   "id": "898fd764",
   "metadata": {},
   "outputs": [],
   "source": [
    "# Pseudocode -> Not real code ( intended to help us not get stuck on the programming language syntax)\n",
    "# (Writing a recipe or set of instructions in order to solce the requested problem)\n",
    "\n",
    "# defining a new function called \"module_check\" with a single parameter: c1 (collection)\n",
    "# create a new variable called \"count\" that is going to store an integer value with the amount of times that we find a number.\n",
    "# for each \"number\" in the range between 0 and the length of the collection (c1):\n",
    "#   if the module of the number is equal to 0:\n",
    "#       add one to my count variable\n",
    "# lets return the variable count\n",
    "# call the function \"module_check\" and the parameter is going to \"n\" collection"
   ]
  },
  {
   "cell_type": "code",
   "execution_count": null,
   "id": "9c277af7",
   "metadata": {},
   "outputs": [
    {
     "data": {
      "text/plain": [
       "4"
      ]
     },
     "execution_count": 9,
     "metadata": {},
     "output_type": "execute_result"
    }
   ],
   "source": [
    "numbers = [3,5,27,20,6,3.5,60]\n",
    "\n",
    "def module_check(c1):\n",
    "    \"\"\"\n",
    "    calculate the total occurances in a collection where the module by 2 is equals to 0\n",
    "\n",
    "    Args:\n",
    "        c1 (_collection):the collection we want to review\n",
    "\n",
    "    Returns:\n",
    "        integer: the number of times found in the collection\n",
    "    \"\"\"\n",
    "    count = 0\n",
    "    for number in c1:\n",
    "        if number % 2 == 0:\n",
    "            count += 1\n",
    "    return count\n",
    "\n",
    "module_check(numbers)\n"
   ]
  }
 ],
 "metadata": {
  "kernelspec": {
   "display_name": "Python 3 (ipykernel)",
   "language": "python",
   "name": "python3"
  },
  "language_info": {
   "codemirror_mode": {
    "name": "ipython",
    "version": 3
   },
   "file_extension": ".py",
   "mimetype": "text/x-python",
   "name": "python",
   "nbconvert_exporter": "python",
   "pygments_lexer": "ipython3",
   "version": "3.12.3"
  }
 },
 "nbformat": 4,
 "nbformat_minor": 5
}
