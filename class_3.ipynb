{
 "cells": [
  {
   "cell_type": "markdown",
   "id": "ea6e38ab",
   "metadata": {},
   "source": [
    "# Class 3 - Stacks and Queues\n",
    "\n",
    "## Stack\n",
    "A stack is an ordered collection of elements where items are added and removed from one end, commonly refered to as ths \"top\"\n",
    "the ordering principle is referred to as LIFO (last in, first out)\n",
    "\n",
    "## Queue\n",
    "A queue is an ordered collection of elements where items are adeded and removed from opposite ends. commonly referred to as the :front: and :back: or \"rear\" of the queue. The ordering principal is referred to as FIFO (first in, first out)"
   ]
  },
  {
   "cell_type": "code",
   "execution_count": 2,
   "id": "2b79d663",
   "metadata": {},
   "outputs": [],
   "source": [
    "class Stack:\n",
    "    def __init__(self):\n",
    "        self.items = []\n",
    "\n",
    "    def push(self,elements):\n",
    "        self.items.append(elements)\n",
    "\n",
    "    def pop(self):\n",
    "        return self.items.pop()\n",
    "\n",
    "    def peek(self):\n",
    "        return self.items[len(self.items)-1]\n",
    "\n",
    "    def size(self):\n",
    "        return len(self.items)\n",
    "\n",
    "    def is_empty(self):\n",
    "        return self.items == []"
   ]
  },
  {
   "cell_type": "code",
   "execution_count": 4,
   "id": "bbb872d9",
   "metadata": {},
   "outputs": [
    {
     "name": "stdout",
     "output_type": "stream",
     "text": [
      "[10, 20, 23, 19, 40]\n",
      "40\n",
      "19\n",
      "23\n",
      "False\n",
      "2\n"
     ]
    }
   ],
   "source": [
    "stack = Stack()\n",
    "stack.push(10)\n",
    "stack.push(20)\n",
    "stack.push(23)\n",
    "stack.push(19)\n",
    "stack.push(40)\n",
    "\n",
    "print(stack.items)\n",
    "\n",
    "print(stack.pop())\n",
    "print(stack.pop())\n",
    "print(stack.pop())\n",
    "\n",
    "print (stack.is_empty())\n",
    "\n",
    "print(stack.size())\n"
   ]
  },
  {
   "cell_type": "markdown",
   "id": "9ae7d36d",
   "metadata": {},
   "source": [
    "# problem 3\n",
    "### Use the stack class above to invert a string\n",
    "\n",
    "'''\n",
    "Example:\n",
    "given \"luis\" your function should return siul\n",
    "given \"stars\" your function should return srats\n",
    "given \"cool\" your function should return looc\n",
    "\n",
    "### : Your function must recieve a string as a parameter and retrun a string not a list\n",
    "\n",
    "Your function must use the stack class above\n",
    "\n",
    "You cannot google anything for this challenge\n",
    "\n"
   ]
  },
  {
   "cell_type": "code",
   "execution_count": 62,
   "id": "9e2e601d",
   "metadata": {},
   "outputs": [
    {
     "data": {
      "text/plain": [
       "'sirhC'"
      ]
     },
     "execution_count": 62,
     "metadata": {},
     "output_type": "execute_result"
    }
   ],
   "source": [
    "def invert_word(word):\n",
    "    stack = Stack()\n",
    "    out = \"\"\n",
    "    for letter in word:\n",
    "        stack.push(letter)\n",
    "\n",
    "    while not stack.is_empty():\n",
    "        out += stack.pop()\n",
    "\n",
    "    return out\n",
    "\n",
    "invert_word(\"Chris\")\n"
   ]
  }
 ],
 "metadata": {
  "kernelspec": {
   "display_name": "Python 3 (ipykernel)",
   "language": "python",
   "name": "python3"
  },
  "language_info": {
   "codemirror_mode": {
    "name": "ipython",
    "version": 3
   },
   "file_extension": ".py",
   "mimetype": "text/x-python",
   "name": "python",
   "nbconvert_exporter": "python",
   "pygments_lexer": "ipython3",
   "version": "3.12.3"
  }
 },
 "nbformat": 4,
 "nbformat_minor": 5
}
