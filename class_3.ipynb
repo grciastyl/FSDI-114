{
 "cells": [
  {
   "cell_type": "markdown",
   "id": "ea6e38ab",
   "metadata": {},
   "source": [
    "# Class 3 - Stacks and Queues\n",
    "\n",
    "## Stack\n",
    "A stack is an ordered collection of elements where items are added and removed from one end, commonly refered to as ths \"top\"\n",
    "the ordering principle is referred to as LIFO (last in, first out)\n",
    "\n",
    "## Queue\n",
    "A queue is an ordered collection of elements where items are adeded and removed from opposite ends. commonly referred to as the :front: and :back: or \"rear\" of the queue. The ordering principal is referred to as FIFO (first in, first out)"
   ]
  },
  {
   "cell_type": "code",
   "execution_count": 5,
   "id": "2b79d663",
   "metadata": {},
   "outputs": [],
   "source": [
    "class Stack:\n",
    "    def __init__(self):\n",
    "        self.items = []\n",
    "\n",
    "    def push(self,elements):        # adds to the end of the stack\n",
    "        self.items.append(elements)\n",
    "\n",
    "    def pop(self):                  # retrieve/deletes the last item in the stack\n",
    "        return self.items.pop()\n",
    "\n",
    "    def peek(self):                 # shows the last item in the stack\n",
    "        return self.items[len(self.items)-1]\n",
    "\n",
    "    def size(self):                 # total number of items in the stack\n",
    "        return len(self.items)\n",
    "\n",
    "    def is_empty(self):             # checks if the stack is empty or not\n",
    "        return self.items == []"
   ]
  },
  {
   "cell_type": "code",
   "execution_count": 6,
   "id": "bbb872d9",
   "metadata": {},
   "outputs": [
    {
     "name": "stdout",
     "output_type": "stream",
     "text": [
      "[10, 20, 23, 19, 40]\n",
      "40\n",
      "19\n",
      "23\n",
      "False\n",
      "2\n",
      "20\n"
     ]
    }
   ],
   "source": [
    "stack = Stack()\n",
    "stack.push(10)\n",
    "stack.push(20)\n",
    "stack.push(23)\n",
    "stack.push(19)\n",
    "stack.push(40)\n",
    "\n",
    "print(stack.items)\n",
    "\n",
    "print(stack.pop()) #40\n",
    "print(stack.pop()) #19\n",
    "print(stack.pop()) #23\n",
    "\n",
    "print (stack.is_empty())\n",
    "\n",
    "print(stack.size())\n",
    "\n",
    "print(stack.peek())\n"
   ]
  },
  {
   "cell_type": "markdown",
   "id": "9ae7d36d",
   "metadata": {},
   "source": [
    "# problem 3\n",
    "### Use the stack class above to invert a string\n",
    "\n",
    "'''\n",
    "Example:\n",
    "given \"luis\" your function should return siul\n",
    "given \"stars\" your function should return srats\n",
    "given \"cool\" your function should return looc\n",
    "\n",
    "### : Your function must recieve a string as a parameter and retrun a string not a list\n",
    "\n",
    "Your function must use the stack class above\n",
    "\n",
    "You cannot google anything for this challenge\n",
    "\n"
   ]
  },
  {
   "cell_type": "code",
   "execution_count": 7,
   "id": "9e2e601d",
   "metadata": {},
   "outputs": [
    {
     "data": {
      "text/plain": [
       "'sirhC'"
      ]
     },
     "execution_count": 7,
     "metadata": {},
     "output_type": "execute_result"
    }
   ],
   "source": [
    "def invert_word(word):\n",
    "    stack = Stack()\n",
    "    out = \"\"\n",
    "    for letter in word:\n",
    "        stack.push(letter)\n",
    "\n",
    "    while not stack.is_empty():\n",
    "        out += stack.pop()\n",
    "\n",
    "    return out\n",
    "\n",
    "invert_word(\"Chris\")\n"
   ]
  },
  {
   "cell_type": "code",
   "execution_count": null,
   "id": "688b1708",
   "metadata": {},
   "outputs": [
    {
     "name": "stdout",
     "output_type": "stream",
     "text": [
      "\n",
      "\n",
      "\n"
     ]
    }
   ],
   "source": [
    "# Custom stack class\n",
    "\n",
    "class Node:\n",
    "    def __init__(self,data,below):\n",
    "        self.data = data\n",
    "        self.below = below\n",
    "\n",
    "class CStack:\n",
    "    def __init__(self):\n",
    "        self.top = None\n",
    "    \n",
    "    def push(self,data):\n",
    "        if self.top is None:\n",
    "            node = Node(data,self.top)\n",
    "            self.top = node\n",
    "        else:\n",
    "            new_node = Node(data,self.top)\n",
    "            self.top = new_node\n",
    "\n",
    "    def pop(self):\n",
    "        if self.top is None:\n",
    "            raise IndexError(\"Stack is Empty\")\n",
    "        else:\n",
    "            node = self.top.data\n",
    "            self.top = self.top.below\n",
    "            return node\n",
    "        \n",
    "        def is_empty(self):\n",
    "            return self.top == None\n",
    "            \n",
    "stack = CStack()\n",
    "stack.push(20)\n",
    "print(\"\")\n",
    "stack.push(21)\n",
    "print(\"\")\n",
    "stack.push(30)\n",
    "print(\"\")"
   ]
  },
  {
   "cell_type": "code",
   "execution_count": 10,
   "id": "6c5e71db",
   "metadata": {},
   "outputs": [
    {
     "ename": "SyntaxError",
     "evalue": "invalid syntax (1166961639.py, line 6)",
     "output_type": "error",
     "traceback": [
      "  \u001b[36mCell\u001b[39m\u001b[36m \u001b[39m\u001b[32mIn[10]\u001b[39m\u001b[32m, line 6\u001b[39m\n\u001b[31m    \u001b[39m\u001b[31mwhile not stack.is.empty():\u001b[39m\n                    ^\n\u001b[31mSyntaxError\u001b[39m\u001b[31m:\u001b[39m invalid syntax\n"
     ]
    }
   ],
   "source": [
    "def invert_using_custom_stack(word):\n",
    "    stack = CStack()\n",
    "    for char in word:\n",
    "        stack.push(char)\n",
    "        out = \"\"\n",
    "        while not stack.is.empty():\n",
    "            out += str stack.pop()\n",
    "            return out\n",
    "        \n",
    "        invert_using_custom_stack(\"Hello\")\n"
   ]
  }
 ],
 "metadata": {
  "kernelspec": {
   "display_name": "Python 3 (ipykernel)",
   "language": "python",
   "name": "python3"
  },
  "language_info": {
   "codemirror_mode": {
    "name": "ipython",
    "version": 3
   },
   "file_extension": ".py",
   "mimetype": "text/x-python",
   "name": "python",
   "nbconvert_exporter": "python",
   "pygments_lexer": "ipython3",
   "version": "3.12.3"
  }
 },
 "nbformat": 4,
 "nbformat_minor": 5
}
