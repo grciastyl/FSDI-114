{
 "cells": [
  {
   "cell_type": "markdown",
   "id": "98892987",
   "metadata": {},
   "source": [
    "# Class 2 - Big O Notation, Stacks and Queues\n",
    "\n",
    "## Problem 2\n",
    "\n",
    "### Anagram check\n",
    "\n",
    "Create a function that takes two strings as paramaters and returns True it they are anagrams of each other, False otherwise\n",
    "'''\n",
    "Examples:\n",
    "1. heart and earth\n",
    "2. scar and cars\n",
    "3. star and rats\n",
    "\n",
    "'''\n",
    "### Criteria\n",
    "Two strings are anagrams of each other if and only if all the criteria below are met\n",
    "    1. They must use all the same characters\n",
    "    2. They must be exactly the same length in characters\n",
    "\n"
   ]
  },
  {
   "cell_type": "code",
   "execution_count": null,
   "id": "b0f1eade",
   "metadata": {},
   "outputs": [],
   "source": [
    "# Pseudocode ->\n",
    "\n",
    "# define a new function called anagram check\n",
    "    # define variable word 1\n",
    "    # define variable word 2\n",
    "    #if word1.length == word2.length = True\n",
    "        #for \n",
    "    #else \n",
    "        #Print false\n"
   ]
  },
  {
   "cell_type": "code",
   "execution_count": 7,
   "id": "4e3691fc",
   "metadata": {},
   "outputs": [
    {
     "data": {
      "text/plain": [
       "True"
      ]
     },
     "execution_count": 7,
     "metadata": {},
     "output_type": "execute_result"
    }
   ],
   "source": [
    "def check_anagrams(w1,w2):\n",
    "    w1=w1.lower().replace(\" \",\"\")\n",
    "    w2=w2.lower().replace(\" \",\"\")\n",
    "    word = {}\n",
    "    word2 = {}\n",
    "    if len(w1) == len(w2):\n",
    "        for letter in w1:\n",
    "            if word.get(letter):\n",
    "                word[letter]+=1\n",
    "            else:\n",
    "                word[letter] = 1\n",
    "\n",
    "        for letter in w2:\n",
    "            if word2.get(letter):\n",
    "                word2[letter]+=1\n",
    "            else:\n",
    "                word2[letter] = 1\n",
    "\n",
    "        return word == word2\n",
    "    else:\n",
    "        return False\n",
    "    \n",
    "check_anagrams(\"scar\",\"cars\")"
   ]
  }
 ],
 "metadata": {
  "kernelspec": {
   "display_name": "Python 3 (ipykernel)",
   "language": "python",
   "name": "python3"
  }
 },
 "nbformat": 4,
 "nbformat_minor": 5
}
